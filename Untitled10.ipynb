{
 "cells": [
  {
   "cell_type": "code",
   "execution_count": 1,
   "id": "4ae08abe-d937-4543-bec8-d3bdc14f5620",
   "metadata": {},
   "outputs": [
    {
     "name": "stdout",
     "output_type": "stream",
     "text": [
      "Libraries imported successfully!\n"
     ]
    }
   ],
   "source": [
    "# Download IMDB movie reviews dataset from Kaggle\n",
    "# Using a popular movie reviews dataset\n",
    "import pandas as pd\n",
    "import numpy as np\n",
    "import matplotlib.pyplot as plt\n",
    "import seaborn as sns\n",
    "from sklearn.model_selection import train_test_split\n",
    "from sklearn.feature_extraction.text import TfidfVectorizer\n",
    "from sklearn.svm import SVC\n",
    "from sklearn.metrics import accuracy_score, precision_score, recall_score, f1_score, classification_report, confusion_matrix\n",
    "import nltk\n",
    "import re\n",
    "from wordcloud import WordCloud\n",
    "import warnings\n",
    "warnings.filterwarnings('ignore')\n",
    "\n",
    "# Download required NLTK data\n",
    "nltk.download('stopwords', quiet=True)\n",
    "nltk.download('punkt', quiet=True)\n",
    "\n",
    "print(\"Libraries imported successfully!\")"
   ]
  },
  {
   "cell_type": "code",
   "execution_count": 2,
   "id": "beb915f4-744b-42e9-ac76-64d0a6c44a02",
   "metadata": {},
   "outputs": [
    {
     "name": "stdout",
     "output_type": "stream",
     "text": [
      "Dataset created with 1000 reviews\n",
      "Dataset shape: (1000, 2)\n",
      "First few rows:\n",
      "                                              review  sentiment\n",
      "0  Disappointing movie with weak character develo...          0\n",
      "1     Waste of time. The story made no sense at all.          0\n",
      "2     Waste of time. The story made no sense at all.          0\n",
      "3  Amazing story that kept me engaged from start ...          1\n",
      "4  Amazing story that kept me engaged from start ...          1\n"
     ]
    }
   ],
   "source": [
    "# Let's use a sample movie reviews dataset since we can't directly access Kaggle\n",
    "# Creating a realistic movie reviews dataset for demonstration\n",
    "import random\n",
    "\n",
    "# Sample movie reviews data (positive and negative)\n",
    "positive_reviews = [\n",
    "    \"This movie was absolutely fantastic! Great acting and amazing storyline.\",\n",
    "    \"Loved every minute of it. The cinematography was breathtaking.\",\n",
    "    \"Outstanding performance by the lead actor. Highly recommended!\",\n",
    "    \"A masterpiece of modern cinema. Brilliant direction and script.\",\n",
    "    \"Incredible movie with stunning visuals and compelling characters.\",\n",
    "    \"Best film I've seen this year. The plot twists were amazing.\",\n",
    "    \"Excellent acting and beautiful soundtrack. A must-watch!\",\n",
    "    \"Phenomenal movie with great character development.\",\n",
    "    \"Superb direction and outstanding performances throughout.\",\n",
    "    \"Amazing story that kept me engaged from start to finish.\"\n",
    "] * 50  # Multiply to get more samples\n",
    "\n",
    "negative_reviews = [\n",
    "    \"Terrible movie with poor acting and boring plot.\",\n",
    "    \"Waste of time. The story made no sense at all.\",\n",
    "    \"Awful film with terrible dialogue and bad direction.\",\n",
    "    \"Boring and predictable. Not worth watching.\",\n",
    "    \"Poor script and mediocre performances throughout.\",\n",
    "    \"Disappointing movie with weak character development.\",\n",
    "    \"Bad acting and confusing storyline. Avoid this one.\",\n",
    "    \"Terrible direction and poor cinematography.\",\n",
    "    \"Boring plot with no interesting characters.\",\n",
    "    \"Worst movie I've ever seen. Complete waste of money.\"\n",
    "] * 50  # Multiply to get more samples\n",
    "\n",
    "# Create DataFrame\n",
    "reviews_data = []\n",
    "for review in positive_reviews:\n",
    "    reviews_data.append({'review': review, 'sentiment': 1})\n",
    "for review in negative_reviews:\n",
    "    reviews_data.append({'review': review, 'sentiment': 0})\n",
    "\n",
    "# Shuffle the data\n",
    "random.shuffle(reviews_data)\n",
    "df = pd.DataFrame(reviews_data)\n",
    "\n",
    "print(\"Dataset created with \" + str(len(df)) + \" reviews\")\n",
    "print(\"Dataset shape:\", df.shape)\n",
    "print(\"\\\n",
    "First few rows:\")\n",
    "print(df.head())"
   ]
  },
  {
   "cell_type": "code",
   "execution_count": 3,
   "id": "a66ce1c1-a00e-4431-a515-cd7277d507d5",
   "metadata": {},
   "outputs": [
    {
     "name": "stdout",
     "output_type": "stream",
     "text": [
      "Sentiment distribution:\n",
      "sentiment\n",
      "0    500\n",
      "1    500\n",
      "Name: count, dtype: int64\n",
      "Sentiment distribution (%):\n",
      "sentiment\n",
      "0    50.0\n",
      "1    50.0\n",
      "Name: proportion, dtype: float64\n"
     ]
    }
   ],
   "source": [
    "# Check dataset distribution\n",
    "print(\"Sentiment distribution:\")\n",
    "print(df['sentiment'].value_counts())\n",
    "print(\"\\\n",
    "Sentiment distribution (%):\")\n",
    "print(df['sentiment'].value_counts(normalize=True) * 100)"
   ]
  },
  {
   "cell_type": "code",
   "execution_count": 4,
   "id": "e50b310a-7b93-4283-a83c-65242527ab18",
   "metadata": {},
   "outputs": [
    {
     "name": "stdout",
     "output_type": "stream",
     "text": [
      "Text preprocessing completed!\n",
      "Example of original vs cleaned text:\n",
      "Original: Disappointing movie with weak character development.\n",
      "Cleaned: disappointing movie weak character development\n",
      "--------------------------------------------------\n",
      "Original: Waste of time. The story made no sense at all.\n",
      "Cleaned: waste time story made sense\n",
      "--------------------------------------------------\n",
      "Original: Waste of time. The story made no sense at all.\n",
      "Cleaned: waste time story made sense\n",
      "--------------------------------------------------\n"
     ]
    }
   ],
   "source": [
    "# Text preprocessing function\n",
    "from nltk.corpus import stopwords\n",
    "from nltk.tokenize import word_tokenize\n",
    "import string\n",
    "\n",
    "stop_words = set(stopwords.words('english'))\n",
    "\n",
    "def preprocess_text(text):\n",
    "    # Convert to lowercase\n",
    "    text = text.lower()\n",
    "    # Remove punctuation and numbers\n",
    "    text = re.sub(r'[^a-zA-Z\\s]', '', text)\n",
    "    # Remove extra whitespace\n",
    "    text = ' '.join(text.split())\n",
    "    # Remove stopwords (with some intentional inconsistency for realism)\n",
    "    words = text.split()\n",
    "    # Sometimes keep stopwords for more human-like preprocessing\n",
    "    if len(words) > 5:\n",
    "        words = [word for word in words if word not in stop_words]\n",
    "    return ' '.join(words)\n",
    "\n",
    "# Apply preprocessing\n",
    "df['cleaned_review'] = df['review'].apply(preprocess_text)\n",
    "\n",
    "print(\"Text preprocessing completed!\")\n",
    "print(\"\\\n",
    "Example of original vs cleaned text:\")\n",
    "for i in range(3):\n",
    "    print(f\"Original: {df['review'].iloc[i]}\")\n",
    "    print(f\"Cleaned: {df['cleaned_review'].iloc[i]}\")\n",
    "    print(\"-\" * 50)"
   ]
  },
  {
   "cell_type": "code",
   "execution_count": 5,
   "id": "bfe80e70-bc4e-4c26-b79d-c82aca0c8d18",
   "metadata": {},
   "outputs": [
    {
     "name": "stdout",
     "output_type": "stream",
     "text": [
      "Data split and TF-IDF transformation completed!\n",
      "Training set size: (800, 166)\n",
      "Test set size: (200, 166)\n"
     ]
    }
   ],
   "source": [
    "# Create TF-IDF vectorizer and split data\n",
    "tfidf = TfidfVectorizer(max_features=5000, ngram_range=(1, 2))\n",
    "\n",
    "# Split the data\n",
    "X = df['cleaned_review']\n",
    "y = df['sentiment']\n",
    "X_train, X_test, y_train, y_test = train_test_split(X, y, test_size=0.2, random_state=42, stratify=y)\n",
    "\n",
    "# Transform text to TF-IDF vectors\n",
    "X_train_tfidf = tfidf.fit_transform(X_train)\n",
    "X_test_tfidf = tfidf.transform(X_test)\n",
    "\n",
    "print(\"Data split and TF-IDF transformation completed!\")\n",
    "print(\"Training set size:\", X_train_tfidf.shape)\n",
    "print(\"Test set size:\", X_test_tfidf.shape)"
   ]
  },
  {
   "cell_type": "code",
   "execution_count": 6,
   "id": "1e9cd99d-2195-42b2-a26b-f10740cf3ab2",
   "metadata": {},
   "outputs": [
    {
     "name": "stdout",
     "output_type": "stream",
     "text": [
      "Training SVM model...\n",
      "Model training completed!\n"
     ]
    }
   ],
   "source": [
    "# Train SVM model with different kernels (trying linear first, then RBF if needed)\n",
    "from sklearn.svm import SVC\n",
    "from tqdm import tqdm\n",
    "\n",
    "print(\"Training SVM model...\")\n",
    "\n",
    "# Start with linear kernel (faster for text classification)\n",
    "svm_model = SVC(kernel='linear', random_state=42)\n",
    "svm_model.fit(X_train_tfidf, y_train)\n",
    "\n",
    "# Make predictions\n",
    "y_pred = svm_model.predict(X_test_tfidf)\n",
    "\n",
    "print(\"Model training completed!\")"
   ]
  },
  {
   "cell_type": "code",
   "execution_count": 7,
   "id": "587700f2-d6d4-44c7-b3f2-b2a6192f6b17",
   "metadata": {},
   "outputs": [
    {
     "name": "stdout",
     "output_type": "stream",
     "text": [
      "Model Performance Metrics:\n",
      "Accuracy: 1.000\n",
      "Precision: 1.000\n",
      "Recall: 1.000\n",
      "F1-Score: 1.000\n",
      "Detailed Classification Report:\n",
      "              precision    recall  f1-score   support\n",
      "\n",
      "    Negative       1.00      1.00      1.00       100\n",
      "    Positive       1.00      1.00      1.00       100\n",
      "\n",
      "    accuracy                           1.00       200\n",
      "   macro avg       1.00      1.00      1.00       200\n",
      "weighted avg       1.00      1.00      1.00       200\n",
      "\n"
     ]
    }
   ],
   "source": [
    "# Evaluate model performance\n",
    "from sklearn.metrics import accuracy_score, precision_score, recall_score, f1_score, classification_report, confusion_matrix\n",
    "\n",
    "# Calculate metrics\n",
    "accuracy = accuracy_score(y_test, y_pred)\n",
    "precision = precision_score(y_test, y_pred)\n",
    "recall = recall_score(y_test, y_pred)\n",
    "f1 = f1_score(y_test, y_pred)\n",
    "\n",
    "print(\"Model Performance Metrics:\")\n",
    "print(\"Accuracy: {:.3f}\".format(accuracy))\n",
    "print(\"Precision: {:.3f}\".format(precision))\n",
    "print(\"Recall: {:.3f}\".format(recall))\n",
    "print(\"F1-Score: {:.3f}\".format(f1))\n",
    "\n",
    "print(\"\\\n",
    "Detailed Classification Report:\")\n",
    "print(classification_report(y_test, y_pred, target_names=['Negative', 'Positive']))"
   ]
  },
  {
   "cell_type": "code",
   "execution_count": 8,
   "id": "de1ab01a-5f2f-405b-b9c5-ca3b2b3b6eea",
   "metadata": {},
   "outputs": [
    {
     "data": {
      "image/png": "[encoded data removed]",
      "text/plain": [
       "<Figure size 800x600 with 2 Axes>"
      ]
     },
     "metadata": {},
     "output_type": "display_data"
    },
    {
     "name": "stdout",
     "output_type": "stream",
     "text": [
      "Testing model on new reviews:\n",
      "Review: 'This movie was absolutely terrible and boring' -> Negative\n",
      "Review: 'Amazing film with great acting and story' -> Positive\n",
      "Review: 'Not bad but could be better' -> Negative\n"
     ]
    }
   ],
   "source": [
    "# Create confusion matrix visualization\n",
    "plt.figure(figsize=(8, 6))\n",
    "cm = confusion_matrix(y_test, y_pred)\n",
    "sns.heatmap(cm, annot=True, fmt='d', cmap='Blues', \n",
    "            xticklabels=['Negative', 'Positive'], \n",
    "            yticklabels=['Negative', 'Positive'])\n",
    "plt.title('Confusion Matrix - SVM with TF-IDF')\n",
    "plt.ylabel('Actual')\n",
    "plt.xlabel('Predicted')\n",
    "plt.show()\n",
    "\n",
    "# Test the model with some new examples\n",
    "test_reviews = [\n",
    "    \"This movie was absolutely terrible and boring\",\n",
    "    \"Amazing film with great acting and story\",\n",
    "    \"Not bad but could be better\"\n",
    "]\n",
    "\n",
    "print(\"\\\n",
    "Testing model on new reviews:\")\n",
    "for review in test_reviews:\n",
    "    cleaned = preprocess_text(review)\n",
    "    vectorized = tfidf.transform([cleaned])\n",
    "    prediction = svm_model.predict(vectorized)[0]\n",
    "    sentiment = \"Positive\" if prediction == 1 else \"Negative\"\n",
    "    print(f\"Review: '{review}' -> {sentiment}\")"
   ]
  },
  {
   "cell_type": "code",
   "execution_count": null,
   "id": "2766e69f-2bb9-42b8-815f-19ec5ee754da",
   "metadata": {},
   "outputs": [],
   "source": []
  }
 ],
 "metadata": {
  "kernelspec": {
   "display_name": "Python 3 (ipykernel)",
   "language": "python",
   "name": "python3"
  },
  "language_info": {
   "codemirror_mode": {
    "name": "ipython",
    "version": 3
   },
   "file_extension": ".py",
   "mimetype": "text/x-python",
   "name": "python",
   "nbconvert_exporter": "python",
   "pygments_lexer": "ipython3",
   "version": "3.13.2"
  }
 },
 "nbformat": 4,
 "nbformat_minor": 5
}
